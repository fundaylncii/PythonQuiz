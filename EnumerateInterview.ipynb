{
  "nbformat": 4,
  "nbformat_minor": 0,
  "metadata": {
    "colab": {
      "provenance": [],
      "authorship_tag": "ABX9TyMqT7qloITG5vkgXyDprDD1",
      "include_colab_link": true
    },
    "kernelspec": {
      "name": "python3",
      "display_name": "Python 3"
    },
    "language_info": {
      "name": "python"
    }
  },
  "cells": [
    {
      "cell_type": "markdown",
      "metadata": {
        "id": "view-in-github",
        "colab_type": "text"
      },
      "source": [
        "<a href=\"https://colab.research.google.com/github/fundaylncii/PythonQuiz/blob/main/EnumerateInterview.ipynb\" target=\"_parent\"><img src=\"https://colab.research.google.com/assets/colab-badge.svg\" alt=\"Open In Colab\"/></a>"
      ]
    },
    {
      "cell_type": "code",
      "execution_count": 1,
      "metadata": {
        "id": "evPCx_WkDqDD"
      },
      "outputs": [],
      "source": [
        "import pandas as pd"
      ]
    },
    {
      "cell_type": "code",
      "source": [
        "students = [\"John\", \"Mark\", \"Venessa\", \"Mariam\"]\n",
        "## Çift indexte yer alan öğrencileri bir listeye alınız.\n",
        "## Tek indexte yer alan öğrencileri bir listeye alınız.\n",
        "## Fakat bu iki liste tek bir liste olarak return olsun."
      ],
      "metadata": {
        "id": "dkbrpEhvEAg1"
      },
      "execution_count": 3,
      "outputs": []
    },
    {
      "cell_type": "code",
      "source": [
        "def divide_students(students):\n",
        "  groups = [[],[]]\n",
        "  for index, student in enumerate(students):\n",
        "    if index % 2 == 0:\n",
        "      groups[0].append(student)\n",
        "    else:\n",
        "      groups[1].append(student)\n",
        "\n",
        "  print(groups)\n",
        "  return groups"
      ],
      "metadata": {
        "id": "BZ7AhVskEZ30"
      },
      "execution_count": 2,
      "outputs": []
    },
    {
      "cell_type": "code",
      "source": [
        "divide_students(students)"
      ],
      "metadata": {
        "colab": {
          "base_uri": "https://localhost:8080/"
        },
        "id": "Muq6jTV_FOxo",
        "outputId": "bc5f1c5e-e85a-4e43-e4dc-b5480e926f57"
      },
      "execution_count": 4,
      "outputs": [
        {
          "output_type": "stream",
          "name": "stdout",
          "text": [
            "[['John', 'Venessa'], ['Mark', 'Mariam']]\n"
          ]
        },
        {
          "output_type": "execute_result",
          "data": {
            "text/plain": [
              "[['John', 'Venessa'], ['Mark', 'Mariam']]"
            ]
          },
          "metadata": {},
          "execution_count": 4
        }
      ]
    }
  ]
}